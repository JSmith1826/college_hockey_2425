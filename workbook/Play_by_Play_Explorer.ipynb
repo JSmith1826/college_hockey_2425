{
 "cells": [
  {
   "cell_type": "markdown",
   "metadata": {},
   "source": [
    "# Explore the Transformed Play by Play Data"
   ]
  },
  {
   "cell_type": "markdown",
   "metadata": {},
   "source": [
    "## Setup - Paths - Dependencies"
   ]
  },
  {
   "cell_type": "code",
   "execution_count": 25,
   "metadata": {},
   "outputs": [],
   "source": [
    "from config import recent_play_by_play, recent_clean_db\n",
    "\n",
    "import pandas as pd\n",
    "import numpy as np\n",
    "import matplotlib.pyplot as plt\n",
    "import seaborn as sns\n",
    "\n",
    "## Load Play by Play data\n",
    "pbp_raw_df = pd.read_csv(recent_play_by_play, low_memory=False)\n",
    "\n",
    "# pbp_raw_df.head()\n"
   ]
  },
  {
   "cell_type": "code",
   "execution_count": 26,
   "metadata": {},
   "outputs": [],
   "source": [
    "# # Rename to df for convenience\n",
    "# df = pbp_raw_df\n",
    "\n",
    "# # Filter for relevant events: Faceoffs and Goals\n",
    "# faceoff_events = df[df['Event_type'] == 'Faceoff']\n",
    "# goal_events = df[df['Event_type'] == 'Goal']\n",
    "\n",
    "# # Merge faceoff events with subsequent goal events within the same game and period\n",
    "# merged_df = pd.merge(\n",
    "#     faceoff_events[['Game_ID', 'Period', 'Time', 'Primary_team']],\n",
    "#     goal_events[['Game_ID', 'Period', 'Time', 'Primary_team']],\n",
    "#     on=['Game_ID', 'Period'],\n",
    "#     suffixes=('_faceoff', '_goal')\n",
    "# )\n",
    "\n",
    "# # Calculate the time difference between faceoff and goal\n",
    "# merged_df['time_diff'] = merged_df['Time_goal'] - merged_df['Time_faceoff']\n",
    "\n",
    "# # Filter only instances where the goal happens after the faceoff\n",
    "# merged_df = merged_df[merged_df['time_diff'] > 0]\n",
    "\n",
    "\n",
    "# # Count how often a goal is scored within 10 seconds and 5 seconds of a faceoff\n",
    "# goals_within_10s = (merged_df['time_diff'] <= 10).sum()\n",
    "# goals_within_5s = (merged_df['time_diff'] <= 5).sum()\n",
    "\n",
    "# # Count the number of times each team has scored a goal within 5 seconds of a faceoff\n",
    "# teams_scoring_within_5s = merged_df[merged_df['time_diff'] <= 5]['Primary_team_goal'].value_counts()\n",
    "\n",
    "# # Display results\n",
    "# # goals_within_10s, goals_within_5s, teams_scoring_within_5s\n"
   ]
  },
  {
   "cell_type": "markdown",
   "metadata": {},
   "source": [
    "## Data Elporation"
   ]
  },
  {
   "cell_type": "markdown",
   "metadata": {},
   "source": [
    "### Faceoff Danger\n",
    "- Table of how many times a team has scored within 3,5, 7, and 10 seconds of a faceoff"
   ]
  },
  {
   "cell_type": "code",
   "execution_count": 27,
   "metadata": {},
   "outputs": [],
   "source": [
    "# Recalculate the time difference properly\n",
    "merged_df = pd.merge(\n",
    "    faceoff_events[['Game_ID', 'Period', 'Time', 'Primary_team']],\n",
    "    goal_events[['Game_ID', 'Period', 'Time', 'Primary_team']],\n",
    "    on=['Game_ID', 'Period'],\n",
    "    suffixes=('_faceoff', '_goal')\n",
    ")\n",
    "\n",
    "# Ensure that the goal occurs after the faceoff in time\n",
    "merged_df = merged_df[merged_df['Time_goal'] > merged_df['Time_faceoff']]\n",
    "\n",
    "# Calculate the correct time difference between faceoff and goal\n",
    "merged_df['time_diff'] = merged_df['Time_goal'] - merged_df['Time_faceoff']\n",
    "\n",
    "# Count goals within specific time frames\n",
    "goals_within_10s = (merged_df['time_diff'] <= 10).sum()\n",
    "goals_within_5s = (merged_df['time_diff'] <= 5).sum()\n",
    "\n",
    "# Count goals per team in different time frames\n",
    "teams_goal_counts = merged_df.groupby('Primary_team_goal')['time_diff'].agg(\n",
    "    within_3s=lambda x: (x <= 3).sum(),\n",
    "    within_5s=lambda x: (x <= 5).sum(),\n",
    "    within_7s=lambda x: (x <= 7).sum(),\n",
    "    within_10s=lambda x: (x <= 10).sum()\n",
    ").reset_index()\n",
    "\n",
    "# Add the total goals scored by each team\n",
    "total_goals_per_team = goal_events['Primary_team'].value_counts().reset_index()\n",
    "total_goals_per_team.columns = ['Primary_team_goal', 'Total_Goals']\n",
    "\n",
    "# Merge with the team goal counts\n",
    "teams_goal_counts = teams_goal_counts.merge(total_goals_per_team, on='Primary_team_goal', how='left')\n",
    "\n"
   ]
  },
  {
   "cell_type": "code",
   "execution_count": 28,
   "metadata": {},
   "outputs": [
    {
     "data": {
      "text/html": [
       "<div>\n",
       "<style scoped>\n",
       "    .dataframe tbody tr th:only-of-type {\n",
       "        vertical-align: middle;\n",
       "    }\n",
       "\n",
       "    .dataframe tbody tr th {\n",
       "        vertical-align: top;\n",
       "    }\n",
       "\n",
       "    .dataframe thead th {\n",
       "        text-align: right;\n",
       "    }\n",
       "</style>\n",
       "<table border=\"1\" class=\"dataframe\">\n",
       "  <thead>\n",
       "    <tr style=\"text-align: right;\">\n",
       "      <th></th>\n",
       "      <th>Primary_team_goal</th>\n",
       "      <th>within_3s</th>\n",
       "      <th>within_5s</th>\n",
       "      <th>within_7s</th>\n",
       "      <th>within_10s</th>\n",
       "      <th>Total_Goals</th>\n",
       "    </tr>\n",
       "  </thead>\n",
       "  <tbody>\n",
       "    <tr>\n",
       "      <th>0</th>\n",
       "      <td>Air Force</td>\n",
       "      <td>0</td>\n",
       "      <td>2</td>\n",
       "      <td>4</td>\n",
       "      <td>8</td>\n",
       "      <td>55</td>\n",
       "    </tr>\n",
       "    <tr>\n",
       "      <th>1</th>\n",
       "      <td>Alaska</td>\n",
       "      <td>1</td>\n",
       "      <td>4</td>\n",
       "      <td>6</td>\n",
       "      <td>9</td>\n",
       "      <td>54</td>\n",
       "    </tr>\n",
       "    <tr>\n",
       "      <th>2</th>\n",
       "      <td>Alaska Anchorage</td>\n",
       "      <td>0</td>\n",
       "      <td>0</td>\n",
       "      <td>1</td>\n",
       "      <td>2</td>\n",
       "      <td>55</td>\n",
       "    </tr>\n",
       "    <tr>\n",
       "      <th>3</th>\n",
       "      <td>American Intl</td>\n",
       "      <td>0</td>\n",
       "      <td>1</td>\n",
       "      <td>1</td>\n",
       "      <td>4</td>\n",
       "      <td>57</td>\n",
       "    </tr>\n",
       "    <tr>\n",
       "      <th>4</th>\n",
       "      <td>Arizona State</td>\n",
       "      <td>0</td>\n",
       "      <td>1</td>\n",
       "      <td>1</td>\n",
       "      <td>2</td>\n",
       "      <td>90</td>\n",
       "    </tr>\n",
       "  </tbody>\n",
       "</table>\n",
       "</div>"
      ],
      "text/plain": [
       "  Primary_team_goal  within_3s  within_5s  within_7s  within_10s  Total_Goals\n",
       "0         Air Force          0          2          4           8           55\n",
       "1            Alaska          1          4          6           9           54\n",
       "2  Alaska Anchorage          0          0          1           2           55\n",
       "3     American Intl          0          1          1           4           57\n",
       "4     Arizona State          0          1          1           2           90"
      ]
     },
     "execution_count": 28,
     "metadata": {},
     "output_type": "execute_result"
    }
   ],
   "source": [
    "teams_goal_counts.head()"
   ]
  },
  {
   "cell_type": "code",
   "execution_count": null,
   "metadata": {},
   "outputs": [],
   "source": []
  }
 ],
 "metadata": {
  "kernelspec": {
   "display_name": "data_viz",
   "language": "python",
   "name": "python3"
  },
  "language_info": {
   "codemirror_mode": {
    "name": "ipython",
    "version": 3
   },
   "file_extension": ".py",
   "mimetype": "text/x-python",
   "name": "python",
   "nbconvert_exporter": "python",
   "pygments_lexer": "ipython3",
   "version": "3.12.1"
  }
 },
 "nbformat": 4,
 "nbformat_minor": 2
}
