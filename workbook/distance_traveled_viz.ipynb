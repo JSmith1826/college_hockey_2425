{
 "cells": [
  {
   "cell_type": "markdown",
   "metadata": {},
   "source": [
    "# Distance Traveled Visualization Book"
   ]
  },
  {
   "cell_type": "code",
   "execution_count": 2,
   "metadata": {},
   "outputs": [
    {
     "name": "stdout",
     "output_type": "stream",
     "text": [
      "<class 'pandas.core.frame.DataFrame'>\n",
      "RangeIndex: 57 entries, 0 to 56\n",
      "Data columns (total 15 columns):\n",
      " #   Column                  Non-Null Count  Dtype  \n",
      "---  ------                  --------------  -----  \n",
      " 0   Team                    57 non-null     object \n",
      " 1   Reg_Distance            57 non-null     float64\n",
      " 2   Reg_Trips               57 non-null     int64  \n",
      " 3   Reg_AVG                 57 non-null     float64\n",
      " 4   N_Distance              57 non-null     float64\n",
      " 5   Neutral_Site_Trips      57 non-null     int64  \n",
      " 6   N_AVG                   57 non-null     float64\n",
      " 7   Total_Distance          57 non-null     float64\n",
      " 8   Overall_AVG             57 non-null     float64\n",
      " 9   Closest_Team            57 non-null     object \n",
      " 10  Closest_Distance        57 non-null     float64\n",
      " 11  Total_Closest_Matches   57 non-null     int64  \n",
      " 12  Longest_Trip_Opponent   57 non-null     object \n",
      " 13  Distance_Longest_Trip   57 non-null     float64\n",
      " 14  Game_Type_Longest_Trip  57 non-null     object \n",
      "dtypes: float64(8), int64(3), object(4)\n",
      "memory usage: 6.8+ KB\n"
     ]
    }
   ],
   "source": [
    "# Dependencies\n",
    "import pandas as pd\n",
    "import numpy as np\n",
    "import os\n",
    "import sys\n",
    "\n",
    "\n",
    "path_to_table = os.path.join(os.getcwd(), '..', 'data', 'output', 'Team_Travel_Information_v1.csv')\n",
    "df = pd.read_csv(path_to_table)\n",
    "\n",
    "# Get the list of teams\n",
    "teams = df['Team'].unique()\n",
    "\n",
    "df.info()"
   ]
  }
 ],
 "metadata": {
  "kernelspec": {
   "display_name": "data_viz",
   "language": "python",
   "name": "python3"
  },
  "language_info": {
   "codemirror_mode": {
    "name": "ipython",
    "version": 3
   },
   "file_extension": ".py",
   "mimetype": "text/x-python",
   "name": "python",
   "nbconvert_exporter": "python",
   "pygments_lexer": "ipython3",
   "version": "3.12.1"
  }
 },
 "nbformat": 4,
 "nbformat_minor": 2
}
