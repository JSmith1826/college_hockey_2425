{
 "cells": [
  {
   "cell_type": "markdown",
   "metadata": {},
   "source": [
    "# Distance Traveled Visualization Book"
   ]
  },
  {
   "cell_type": "code",
   "execution_count": 1,
   "metadata": {},
   "outputs": [
    {
     "name": "stdout",
     "output_type": "stream",
     "text": [
      "<class 'pandas.core.frame.DataFrame'>\n",
      "RangeIndex: 68 entries, 0 to 67\n",
      "Data columns (total 20 columns):\n",
      " #   Column                  Non-Null Count  Dtype  \n",
      "---  ------                  --------------  -----  \n",
      " 0   Team                    68 non-null     object \n",
      " 1   Total_Trips             68 non-null     int64  \n",
      " 2   N_trips                 68 non-null     int64  \n",
      " 3   N_total_distance        68 non-null     float64\n",
      " 4   N_AVG                   68 non-null     float64\n",
      " 5   N_shortest              68 non-null     float64\n",
      " 6   N_longest               68 non-null     float64\n",
      " 7   non_con_trips           68 non-null     int64  \n",
      " 8   non_con_total_distance  68 non-null     float64\n",
      " 9   non_con_AVG             68 non-null     float64\n",
      " 10  non_con_shortest        68 non-null     float64\n",
      " 11  non_con_longest         68 non-null     float64\n",
      " 12  con_trips               68 non-null     int64  \n",
      " 13  con_total_distance      68 non-null     float64\n",
      " 14  con_AVG                 68 non-null     float64\n",
      " 15  con_shortest            68 non-null     float64\n",
      " 16  con_longest             68 non-null     float64\n",
      " 17  Closest_Team            60 non-null     object \n",
      " 18  Closest_Distance        60 non-null     float64\n",
      " 19  Total_Closest_Matches   68 non-null     int64  \n",
      "dtypes: float64(13), int64(5), object(2)\n",
      "memory usage: 10.8+ KB\n"
     ]
    }
   ],
   "source": [
    "# Dependencies\n",
    "import pandas as pd\n",
    "import numpy as np\n",
    "import os\n",
    "import sys\n",
    "\n",
    "\n",
    "path_to_table = os.path.join(os.getcwd(), '..', 'data', 'output', 'team_travel_summary_final_v1.csv')\n",
    "df = pd.read_csv(path_to_table)\n",
    "\n",
    "# Get the list of teams\n",
    "teams = df['Team'].unique()\n",
    "\n",
    "df.info()"
   ]
  }
 ],
 "metadata": {
  "kernelspec": {
   "display_name": "data_viz",
   "language": "python",
   "name": "python3"
  },
  "language_info": {
   "codemirror_mode": {
    "name": "ipython",
    "version": 3
   },
   "file_extension": ".py",
   "mimetype": "text/x-python",
   "name": "python",
   "nbconvert_exporter": "python",
   "pygments_lexer": "ipython3",
   "version": "3.12.1"
  }
 },
 "nbformat": 4,
 "nbformat_minor": 2
}
