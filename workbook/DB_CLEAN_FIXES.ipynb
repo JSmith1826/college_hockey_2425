{
 "cells": [
  {
   "cell_type": "markdown",
   "metadata": {},
   "source": [
    "# Quick Utility to Clean DB Tables\n",
    "- Create 12-14-24\n",
    "    - Replace abreviations with full team names"
   ]
  },
  {
   "cell_type": "code",
   "execution_count": 1,
   "metadata": {},
   "outputs": [],
   "source": [
    "## Dependencirs\n",
    "\n",
    "import os\n",
    "import pandas as pd\n",
    "import numpy as np\n",
    "import sqlite3\n",
    "\n",
    "\n",
    "# Folder Paths\n",
    "data_folder = os.path.join('..', 'data')\n",
    "db_folder = os.path.join(data_folder, 'db')\n",
    "temp_folder = os.path.join(data_folder, 'TEMP')"
   ]
  },
  {
   "cell_type": "markdown",
   "metadata": {},
   "source": [
    "## Clean Team Name Function"
   ]
  },
  {
   "cell_type": "code",
   "execution_count": 2,
   "metadata": {},
   "outputs": [],
   "source": [
    "def clean_team_name(team_name):\n",
    "    \"\"\"\n",
    "    Cleans the team name by removing unwanted characters.\n",
    "    Args:\n",
    "        team_name (str): Team name.\n",
    "\n",
    "    Returns:\n",
    "        str: Cleaned team name.\n",
    "    \"\"\"\n",
    "    # Replace unwanted characters with an empty string\n",
    "    return team_name.replace('-', ' ').replace('.', '').replace(\"'\", '').strip()"
   ]
  },
  {
   "cell_type": "code",
   "execution_count": null,
   "metadata": {},
   "outputs": [],
   "source": []
  },
  {
   "cell_type": "markdown",
   "metadata": {},
   "source": [
    "### Team info (Abbreviation, Full Name)"
   ]
  },
  {
   "cell_type": "code",
   "execution_count": 3,
   "metadata": {},
   "outputs": [],
   "source": [
    "# school info file name\n",
    "school_info_file = 'arena_school_info.csv'\n",
    "school_info_df = pd.read_csv(os.path.join(data_folder, school_info_file)) # load school info to pandas\n",
    "\n",
    "# Clean the Team and School Names\n",
    "school_info_df['Team'] = school_info_df['Team'].apply(clean_team_name)\n",
    "school_info_df['School'] = school_info_df['School'].apply(clean_team_name)\n",
    "\n",
    "# Create a dictionary of the abv and school name\n",
    "# school_info_dict = dict(zip(school_info_df['abv'], school_info_df['Team']))\n",
    "abbreviation_dict = dict(zip(school_info_df['abv'], school_info_df['Team']))\n",
    "\n",
    "# abbreviation_dict\n",
    "# Check head of the data\n",
    "# school_info_df.head()"
   ]
  },
  {
   "cell_type": "code",
   "execution_count": 4,
   "metadata": {},
   "outputs": [],
   "source": [
    "# Define a function to replace abbreviations in a column with full team names\n",
    "def replace_abbreviations_with_fullnames(df, column_name, abbreviation_dict):\n",
    "    \"\"\"\n",
    "    Replaces abbreviations in the specified column of a DataFrame with full team names.\n",
    "    \n",
    "    Args:\n",
    "        df (pd.DataFrame): The DataFrame containing the column to process.\n",
    "        column_name (str): The column name where abbreviations need to be replaced.\n",
    "        abbreviation_dict (dict): Dictionary mapping abbreviations to full names.\n",
    "    \n",
    "    Returns:\n",
    "        pd.DataFrame: DataFrame with updated column values.\n",
    "    \"\"\"\n",
    "    df[column_name] = df[column_name].replace(abbreviation_dict)\n",
    "    return df\n",
    "\n",
    "\n",
    "\n",
    "\n"
   ]
  },
  {
   "cell_type": "markdown",
   "metadata": {},
   "source": [
    "## Connect to Database"
   ]
  },
  {
   "cell_type": "markdown",
   "metadata": {},
   "source": [
    "### Call The Function"
   ]
  },
  {
   "cell_type": "code",
   "execution_count": 5,
   "metadata": {},
   "outputs": [
    {
     "name": "stdout",
     "output_type": "stream",
     "text": [
      "..\\data\\db\\2025_JAN_16_ROUGH.db\n",
      "[('player_stats_ytd',), ('master_roster',), ('advanced_metrics',), ('game_details',), ('goalie_stats',), ('line_chart',), ('linescore',), ('penalty_summary',), ('player_stats',), ('scoring_summary',)]\n"
     ]
    }
   ],
   "source": [
    "# Source Database Path\n",
    "filename = '2025_JAN_16_ROUGH.db'\n",
    "## data\\db\\2024_Dec_10_CLEANED_OLD_METHOD.db\n",
    "\n",
    "db_path = os.path.join(db_folder, filename)\n",
    "print(db_path)\n",
    "\n",
    "\n",
    "# Database Connection\n",
    "conn = sqlite3.connect(db_path)\n",
    "\n",
    "#  create list and print table names\n",
    "cursor = conn.cursor()\n",
    "cursor.execute(\"SELECT name FROM sqlite_master WHERE type='table';\")\n",
    "# Create list of table names\n",
    "tables = cursor.fetchall()\n",
    "\n",
    "# Print table names\n",
    "print(tables)"
   ]
  },
  {
   "cell_type": "code",
   "execution_count": 6,
   "metadata": {},
   "outputs": [
    {
     "name": "stdout",
     "output_type": "stream",
     "text": [
      "Done\n"
     ]
    }
   ],
   "source": [
    "## Load the tables into pandas and run the replace_abbreviations_with_fullnames function on the Team column of each table\n",
    "# Load the tables into pandas\n",
    "\n",
    "# Create a dictionary to store the table names and DataFrames\n",
    "tables_dict = {}\n",
    "\n",
    "# Load the tables into pandas\n",
    "for table in tables:\n",
    "    table_name = table[0]\n",
    "    query = f\"SELECT * FROM {table_name};\"\n",
    "    tables_dict[table_name] = pd.read_sql_query(query, conn)\n",
    "\n",
    "# Replace abbreviations with full team names in each table only if the Team column exists\n",
    "for table_name, table_df in tables_dict.items():\n",
    "    if 'Team' in table_df.columns:\n",
    "        tables_dict[table_name] = replace_abbreviations_with_fullnames(table_df, 'Team', abbreviation_dict)\n",
    "\n",
    "# Write each table to back to the database\n",
    "for table_name, table_df in tables_dict.items():\n",
    "    table_df.to_sql(table_name, conn, if_exists='replace', index=False)\n",
    "\n",
    "# Close the connection\n",
    "conn.close()\n",
    "\n",
    "print('Done')\n"
   ]
  },
  {
   "cell_type": "markdown",
   "metadata": {},
   "source": [
    "### Clean The team name"
   ]
  },
  {
   "cell_type": "code",
   "execution_count": 7,
   "metadata": {},
   "outputs": [
    {
     "name": "stdout",
     "output_type": "stream",
     "text": [
      "Done\n"
     ]
    }
   ],
   "source": [
    "#### Call the function to remove periods, dashes, and apostrophes from the Team and School columns of the school_info_df DataFrame\n",
    "# Open the connection to the database\n",
    "conn = sqlite3.connect(db_path)\n",
    "\n",
    "# Remove periods, dashes, and apostrophes from the Team, Away_Team, Home_Team and School columns every table in the database\n",
    "\n",
    "# get list of tables\n",
    "cursor = conn.cursor()\n",
    "\n",
    "cursor.execute(\"SELECT name FROM sqlite_master WHERE type='table';\")\n",
    "tables = cursor.fetchall()\n",
    "\n",
    "# Create dictionary to store the table names and DataFrames\n",
    "tables_dict = {}\n",
    "\n",
    "# Load the tables into pandas\n",
    "for table in tables:\n",
    "    table_name = table[0]\n",
    "    query = f\"SELECT * FROM {table_name};\"\n",
    "    tables_dict[table_name] = pd.read_sql_query(query, conn)\n",
    "\n",
    "# Replace periods, dashes, and apostrophes with spaces in the Team, Away_Team, Home_Team, and School columns of each table\n",
    "for table_name, table_df in tables_dict.items():\n",
    "    if 'Team' in table_df.columns:\n",
    "        table_df['Team'] = table_df['Team'].apply(clean_team_name)\n",
    "    if 'Away_Team' in table_df.columns:\n",
    "        table_df['Away_Team'] = table_df['Away_Team'].apply(clean_team_name)\n",
    "    if 'Home_Team' in table_df.columns:\n",
    "        table_df['Home_Team'] = table_df['Home_Team'].apply(clean_team_name)\n",
    "    if 'School' in table_df.columns:\n",
    "        table_df['School'] = table_df['School'].apply(clean_team_name)\n",
    "\n",
    "# Write each table back to the database\n",
    "for table_name, table_df in tables_dict.items():\n",
    "    table_df.to_sql(table_name, conn, if_exists='replace', index=False)\n",
    "\n",
    "# Close the connection\n",
    "conn.close()\n",
    "\n",
    "print('Done')\n",
    "\n"
   ]
  }
 ],
 "metadata": {
  "kernelspec": {
   "display_name": "data_viz",
   "language": "python",
   "name": "python3"
  },
  "language_info": {
   "codemirror_mode": {
    "name": "ipython",
    "version": 3
   },
   "file_extension": ".py",
   "mimetype": "text/x-python",
   "name": "python",
   "nbconvert_exporter": "python",
   "pygments_lexer": "ipython3",
   "version": "3.12.1"
  }
 },
 "nbformat": 4,
 "nbformat_minor": 2
}
